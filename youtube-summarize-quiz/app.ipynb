{
 "cells": [
  {
   "cell_type": "markdown",
   "id": "75208339",
   "metadata": {},
   "source": [
    "# import"
   ]
  },
  {
   "cell_type": "code",
   "execution_count": null,
   "id": "13d96fb6",
   "metadata": {},
   "outputs": [],
   "source": [
    "from pathlib import Path\n",
    "import argparse\n",
    "import yt_dlp\n",
    "import srt\n",
    "import re\n",
    "import json"
   ]
  },
  {
   "cell_type": "markdown",
   "id": "56c880a7",
   "metadata": {},
   "source": [
    "# 関数定義"
   ]
  },
  {
   "cell_type": "code",
   "execution_count": null,
   "id": "4f23e55c",
   "metadata": {},
   "outputs": [],
   "source": [
    "# srtファイルを削除したときにjsonファイルのdoneを全てfalseに修正"
   ]
  },
  {
   "cell_type": "markdown",
   "id": "4e8ebdd1",
   "metadata": {},
   "source": [
    "# youtubeの読み込み"
   ]
  },
  {
   "cell_type": "code",
   "execution_count": null,
   "id": "efb88c74",
   "metadata": {},
   "outputs": [],
   "source": [
    "# jsonファイルの読み込み\n",
    "youtube_links_path = \"youtube_links.json\"\n",
    "file_path = Path(youtube_links_path)\n",
    "# if not file_path.exists():\n",
    "#     raise \n",
    "json_text = file_path.read_text(encoding=\"utf-8\")\n",
    "data = json.loads(json_text)\n",
    "\n",
    "ydl_opts = {\n",
    "    \"skip_download\": True,\n",
    "    \"writesubtitles\": True,\n",
    "    \"writeautomaticsub\": True,\n",
    "    \"subtitleslangs\": [\"ja\"],     # 日本語字幕\n",
    "    \"subtitlesformat\": \"srt\",     # 形式\n",
    "    \"outtmpl\": \"captions/%(title)s.%(ext)s\" \n",
    "}\n",
    "\n",
    "# 文字お越しの読み込み\n",
    "for v in data:\n",
    "    print(v)\n",
    "    url = v['url']\n",
    "    done = v['done']\n",
    "    title = v['title']\n",
    "    \n",
    "    if done and title!=None:\n",
    "        print(f\"文字お越し済み {title}\")\n",
    "        continue\n",
    "    with yt_dlp.YoutubeDL(ydl_opts) as ydl:\n",
    "        ret = ydl.download([url])\n",
    "        info = ydl.extract_info(url, download=False)\n",
    "        title = info['title']\n",
    "        if ret == 0: # 成功した場合\n",
    "            v['done'] = True\n",
    "            v['title'] = title\n",
    "            print(f\"[OK] {url} {title}\")\n",
    "        else:\n",
    "            print(f\"[FAIL] {url} {title}\")\n",
    "\n",
    "file_path.write_text(json.dumps(data, indent=2, ensure_ascii=False), encoding=\"utf-8\")\n",
    "\n",
    "# 文字お越こし要約\n",
    "# 前処理\n",
    "caption_path = Path('captions')\n",
    "# if not caption_path.is_dir():\n",
    "#     raise\n",
    "\n",
    "for p in caption_path.iterdir():\n",
    "    text = p.read_text(encoding='utf-8')\n",
    "    print(text[:1000])\n"
   ]
  },
  {
   "cell_type": "code",
   "execution_count": null,
   "id": "4f598255",
   "metadata": {},
   "outputs": [],
   "source": []
  },
  {
   "cell_type": "code",
   "execution_count": null,
   "id": "3f5f3a2e",
   "metadata": {},
   "outputs": [],
   "source": [
    "ydl_opts = {\n",
    "    \"skip_download\": True,\n",
    "    \"writesubtitles\": True,\n",
    "    \"writeautomaticsub\": True,\n",
    "    \"subtitleslangs\": [\"ja\"],     # 日本語字幕\n",
    "    \"subtitlesformat\": \"srt\",     # 形式\n",
    "}\n",
    "with yt_dlp.YoutubeDL(ydl_opts) as ydl:\n",
    "    print(ydl.download([url]))\n",
    "    "
   ]
  },
  {
   "cell_type": "code",
   "execution_count": null,
   "id": "ae999211",
   "metadata": {},
   "outputs": [],
   "source": [
    "ydl = yt_dlp.YoutubeDL({\"quiet\": True})\n",
    "print(ydl)\n",
    "info = ydl.extract_info(url, download=False)\n",
    "print(info.keys())"
   ]
  },
  {
   "cell_type": "code",
   "execution_count": null,
   "id": "cc88e83b",
   "metadata": {},
   "outputs": [],
   "source": []
  }
 ],
 "metadata": {
  "kernelspec": {
   "display_name": "youtube-summarize-quiz",
   "language": "python",
   "name": "python3"
  },
  "language_info": {
   "codemirror_mode": {
    "name": "ipython",
    "version": 3
   },
   "file_extension": ".py",
   "mimetype": "text/x-python",
   "name": "python",
   "nbconvert_exporter": "python",
   "pygments_lexer": "ipython3",
   "version": "3.13.7"
  }
 },
 "nbformat": 4,
 "nbformat_minor": 5
}
