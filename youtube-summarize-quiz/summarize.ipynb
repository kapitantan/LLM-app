{
 "cells": [
  {
   "cell_type": "markdown",
   "id": "75208339",
   "metadata": {},
   "source": [
    "# import"
   ]
  },
  {
   "cell_type": "code",
   "execution_count": null,
   "id": "13d96fb6",
   "metadata": {},
   "outputs": [],
   "source": [
    "from pathlib import Path\n",
    "import yt_dlp\n",
    "import re\n",
    "import json\n",
    "from dotenv import load_dotenv\n",
    "from google import genai\n",
    "import os"
   ]
  },
  {
   "cell_type": "markdown",
   "id": "56c880a7",
   "metadata": {},
   "source": [
    "# 関数定義"
   ]
  },
  {
   "cell_type": "code",
   "execution_count": null,
   "id": "4f23e55c",
   "metadata": {},
   "outputs": [],
   "source": [
    "# LLMによる生成\n",
    "def LLM_gen(contents: str) -> str:\n",
    "    client = genai.Client()\n",
    "\n",
    "    response = client.models.generate_content(\n",
    "        model=\"gemini-2.5-flash\", \n",
    "        contents= contents\n",
    "    )\n",
    "    return response.text\n",
    "# 危険な文字の除去\n",
    "def replace_chars(s: str) -> str:\n",
    "    remove_chars = '\\\\/:*?\"<>|￥＜＞｜'  # 削除対象文字\n",
    "    table = str.maketrans({ch: '-' for ch in remove_chars})\n",
    "    s2 = s.translate(table)\n",
    "    s3 = s2.replace(\" \",\"\")\n",
    "    return s3\n",
    "# srtファイルを削除したときにjsonファイルのdoneを全てfalseに修正"
   ]
  },
  {
   "cell_type": "markdown",
   "id": "4e8ebdd1",
   "metadata": {},
   "source": [
    "# youtubeの読み込み"
   ]
  },
  {
   "cell_type": "code",
   "execution_count": null,
   "id": "efb88c74",
   "metadata": {},
   "outputs": [],
   "source": [
    "# jsonファイルの読み込み\n",
    "youtube_links_file_name = \"youtube_links.json\"\n",
    "youtube_links_path = Path(youtube_links_file_name)\n",
    "# if not youtube_links_path.exists():\n",
    "#     raise \n",
    "json_text = youtube_links_path.read_text(encoding=\"utf-8\")\n",
    "data = json.loads(json_text)\n",
    "\n",
    "ydl_opts = {\n",
    "    \"skip_download\": True,\n",
    "    \"writesubtitles\": True,\n",
    "    \"writeautomaticsub\": True,\n",
    "    \"subtitleslangs\": [\"ja\"],     # 日本語字幕\n",
    "    \"subtitlesformat\": \"srt\",     # 形式\n",
    "    \"outtmpl\": \"captions/%(title)s.%(ext)s\" \n",
    "}\n",
    "\n",
    "# 文字お越しの読み込み\n",
    "for v in data:\n",
    "    print(v)\n",
    "    url = v['url']\n",
    "    done = v['done']\n",
    "    title = v['title']\n",
    "    \n",
    "    if done and title!=None:\n",
    "        print(f\"文字お越し済み {title}\")\n",
    "        continue\n",
    "    with yt_dlp.YoutubeDL(ydl_opts) as ydl:\n",
    "        ret = ydl.download([url])\n",
    "        info = ydl.extract_info(url, download=False)\n",
    "        title = info['title']\n",
    "        if ret == 0: # 成功した場合\n",
    "            v['done'] = True\n",
    "            v['title'] = title\n",
    "            print(f\"[OK] {url} {title}\")\n",
    "        else:\n",
    "            print(f\"[FAIL] {url} {title}\")\n",
    "\n",
    "youtube_links_path.write_text(json.dumps(data, indent=2, ensure_ascii=False), encoding=\"utf-8\")"
   ]
  },
  {
   "cell_type": "markdown",
   "id": "b60efee2",
   "metadata": {},
   "source": [
    "# 文字お越こし要約"
   ]
  },
  {
   "cell_type": "code",
   "execution_count": null,
   "id": "cc993010",
   "metadata": {},
   "outputs": [],
   "source": [
    "# パス設定\n",
    "caption_dir= Path('captions')\n",
    "summary_dir = Path('summary')\n",
    "summary_dir.mkdir(exist_ok=True)\n",
    "# if not caption_path.is_dir():\n",
    "#     raise\n",
    "\n",
    "# gemini api keyの読み込み\n",
    "load_dotenv()\n",
    "gemini_api_key = os.getenv(\"GEMINI_API_KEY\")\n",
    "\n",
    "json_text = youtube_links_path.read_text(encoding=\"utf-8\")\n",
    "data = json.loads(json_text)\n",
    "# print(data)\n",
    "\n",
    "# 正規表現を使いtextの抽出とLLMによる要約\n",
    "text_pattern = r\"\\d\\n.*\\n(.*)\\n\"\n",
    "for p in caption_dir.iterdir():\n",
    "    # print(p)\n",
    "    p_str = str(p)\n",
    "    title_pattern = r\"captions\\\\(.*).ja.srt\"\n",
    "    title = re.search(title_pattern, p_str)[1] # タイトル部分の抽出\n",
    "    replaced_title = replace_chars(title) # 危険文字の変換\n",
    "\n",
    "    text = p.read_text(encoding='utf-8') # \n",
    "    matchs = re.findall(text_pattern, text)\n",
    "    text = '\\n'.join(matchs)\n",
    "    contents= (\n",
    "        \"以下はyoutube動画の文字お越しをした文章です。\"\n",
    "        \"要約してください。\"\n",
    "        \"ただし、出力はMarkdown形式のみで行い、\"\n",
    "        \"要約に関係ない説明文や前置きは一切書かないでください。\"\n",
    "        \"見出し・箇条書きを適宜使って整理してください。\\n\\n\"\n",
    "        + text\n",
    "    )\n",
    "    \n",
    "    LLM_gen_flg = False\n",
    "    name_match_flg = False\n",
    "    for v in data:\n",
    "        # print(v['title'])\n",
    "        v['title'] = replace_chars(v['title'])\n",
    "        if replaced_title == v['title']:\n",
    "            LLM_gen_flg = v['LLM_gen']\n",
    "            print(f\"titleが一致 : {replaced_title } : {LLM_gen_flg=}\")\n",
    "            name_match_flg = True\n",
    "            \n",
    "            if LLM_gen_flg==True:\n",
    "                print(f\"要約済みです : {replaced_title}\")\n",
    "            else:\n",
    "                v['LLM_gen'] = True\n",
    "                res = LLM_gen(contents)\n",
    "                print(f\"{replaced_title},{res=}\")\n",
    "            \n",
    "                file_name = summary_dir / f\"{replaced_title}.md\"\n",
    "                file_name.write_text(res,encoding='utf-8')\n",
    "    if not name_match_flg:\n",
    "        print(replaced_title)\n",
    "youtube_links_path.write_text(json.dumps(data, indent=2, ensure_ascii=False), encoding=\"utf-8\")"
   ]
  }
 ],
 "metadata": {
  "kernelspec": {
   "display_name": "youtube-summarize-quiz",
   "language": "python",
   "name": "python3"
  },
  "language_info": {
   "codemirror_mode": {
    "name": "ipython",
    "version": 3
   },
   "file_extension": ".py",
   "mimetype": "text/x-python",
   "name": "python",
   "nbconvert_exporter": "python",
   "pygments_lexer": "ipython3",
   "version": "3.13.7"
  }
 },
 "nbformat": 4,
 "nbformat_minor": 5
}
