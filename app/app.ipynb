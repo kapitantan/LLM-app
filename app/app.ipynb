{
 "cells": [
  {
   "cell_type": "markdown",
   "id": "453ffed1",
   "metadata": {},
   "source": [
    "# import"
   ]
  },
  {
   "cell_type": "code",
   "execution_count": null,
   "id": "0107850c",
   "metadata": {},
   "outputs": [],
   "source": [
    "import os\n",
    "import re\n",
    "from pathlib import Path\n",
    "from dotenv import load_dotenv\n",
    "from google import genai\n",
    "import json"
   ]
  },
  {
   "cell_type": "markdown",
   "id": "4312bf37",
   "metadata": {},
   "source": [
    "# 関数定義"
   ]
  },
  {
   "cell_type": "code",
   "execution_count": null,
   "id": "0a14b8cb",
   "metadata": {},
   "outputs": [],
   "source": [
    "def LLM_gen(contents: str) -> str:\n",
    "    client = genai.Client()\n",
    "\n",
    "    response = client.models.generate_content(\n",
    "        model=\"gemini-2.5-flash\", \n",
    "        contents= contents\n",
    "    )\n",
    "    return response.text"
   ]
  },
  {
   "cell_type": "markdown",
   "id": "6cd78cd6",
   "metadata": {},
   "source": [
    "# ハイライトの読み込みと要約"
   ]
  },
  {
   "cell_type": "code",
   "execution_count": null,
   "id": "6023bce3",
   "metadata": {},
   "outputs": [],
   "source": [
    "# APIKEYの読み込み\n",
    "load_dotenv()\n",
    "gemini_api_key = os.getenv(\"GEMINI_API_KEY\")\n",
    "\n",
    "# ハイライトディレクトリの読み込み\n",
    "highlight_dir = Path(\"highlight\")\n",
    "if not highlight_dir.is_dir():\n",
    "        raise NotADirectoryError(f\"{highlight_dir} is not a directory\")\n",
    "for f in highlight_dir.iterdir():\n",
    "    text = f.read_text(encoding=\"utf-8\")\n",
    "    lines = text.splitlines()\n",
    "\n",
    "    # 書籍のプロティの作成\n",
    "    property = {}\n",
    "    for l in lines:\n",
    "        if 'title' in l:\n",
    "            title = l.split(':')[1]\n",
    "            title = title.strip() # 空白を除去しないとエラーになる\n",
    "        if 'author' in l:\n",
    "            author = l.split(':')[1]\n",
    "\n",
    "    property['title'] = title\n",
    "    property['author'] = author\n",
    "    property['tags'] = ['kindle', 'quize']\n",
    "\n",
    "    frontmatter = '---\\n'\n",
    "    for v in property:\n",
    "        if type(property[v]) == list:\n",
    "            frontmatter += v + ': ' + json.dumps(property[v]) + '\\n'\n",
    "        if type(property[v]) == str:\n",
    "            frontmatter += v + ': ' + property[v] + '\\n'\n",
    "    frontmatter += '---\\n'\n",
    "    # print(frontmatter)\n",
    "    \n",
    "    # Highlight箇所の抽出\n",
    "    highlightAfterPattern = r\"##\\s*Highlights\\n*(.*)—\\slocation\"\n",
    "    dashWrappedPattern = r\"---\\n*(.*)\\n*—\\slocation\"\n",
    "    matches = re.findall(highlightAfterPattern, text)\n",
    "    matches += re.findall(dashWrappedPattern, text)\n",
    "    # print(matches)\n",
    "\n",
    "    highlightMarkdown = ''\n",
    "    for text in matches:\n",
    "        highlightMarkdown += '- ' + text + '\\n'\n",
    "    # print(highlightMarkdown)\n",
    "\n",
    "    # mdファイルの要約\n",
    "    contents= (\n",
    "            \"以下は書籍のハイライトをMarkdown形式にまとめたものです。\"\n",
    "            \"要約してください。\"\n",
    "            \"ただし、出力はMarkdown形式のみで行い、\"\n",
    "            \"要約に関係ない説明文や前置きは一切書かないでください。\"\n",
    "            \"見出し・箇条書きを適宜使って整理してください。\\n\\n\"\n",
    "            + highlightMarkdown\n",
    "        )\n",
    "    res = LLM_gen(contents)\n",
    "    # print(res)\n",
    "\n",
    "    # 要約をMarkdownファイルとして出力\n",
    "    save_dir = Path(\"summary\")\n",
    "    save_dir.mkdir(exist_ok=True)\n",
    "    filename = save_dir/f\"{title}.md\"\n",
    "    print(filename)\n",
    "    text = frontmatter + res\n",
    "    filename.write_text(text,encoding=\"utf-8\")"
   ]
  },
  {
   "cell_type": "markdown",
   "id": "a1ce07ae",
   "metadata": {},
   "source": [
    "# 問題生成"
   ]
  },
  {
   "cell_type": "code",
   "execution_count": null,
   "id": "99269159",
   "metadata": {},
   "outputs": [],
   "source": [
    "# 問題保管ディレクトリの作成\n",
    "save_dir = Path(\"problem_bank\")\n",
    "save_dir.mkdir(exist_ok=True)\n",
    "\n",
    "summary_dir = Path(\"summary\")\n",
    "if not summary_dir.is_dir():\n",
    "        raise NotADirectoryError(f\"{summary_dir} is not a directory\")\n",
    "\n",
    "# 要約の読み込みと問題の作成\n",
    "for f in summary_dir.iterdir():\n",
    "        text = f.read_text(encoding=\"utf-8\")\n",
    "        # print(text)\n",
    "        pattern = r\"---\\n(.*)\\n(.*)\\n(.*)\\n---\"\n",
    "        matches = re.search(pattern, text)\n",
    "        frontmatter = matches.group(0)\n",
    "        title = matches.group(1).split(':')[1]\n",
    "        title = title.strip() # 空白を除去しないとエラーになる\n",
    "        # print(frontmatter)\n",
    "\n",
    "        contents = (\n",
    "        \"以下は書籍の一部を要約した文章です。\"\n",
    "        \"この要約の内容を網羅するように問題を作成してください。\"\n",
    "        \"出題は必ず複数の観点を含めてください（定義確認・理由説明・比較・応用シナリオ）。\"\n",
    "        \"各問題は必ずMarkdown形式で次のフォーマットに従ってください：\\n\\n\"\n",
    "        \"### （ここに問題文そのものを一つだけ書く）\\n\"\n",
    "        \"**解答**　（ここに解答を書く）\\n\"\n",
    "        \"**解説**　（ここに解説を書く）\\n\\n\"\n",
    "        \"問題作成に関係ない説明文や前置きは一切書かないでください。\\n\\n\"\n",
    "        + text\n",
    "        )\n",
    "\n",
    "        res = LLM_gen(contents)\n",
    "        # print(res)\n",
    "\n",
    "        file_path = save_dir / Path(title+\".md\")\n",
    "        file_path.write_text(frontmatter + \"\\n\" + res, encoding=\"utf-8\")\n",
    "\n"
   ]
  }
 ],
 "metadata": {
  "kernelspec": {
   "display_name": "venv",
   "language": "python",
   "name": "venv"
  },
  "language_info": {
   "codemirror_mode": {
    "name": "ipython",
    "version": 3
   },
   "file_extension": ".py",
   "mimetype": "text/x-python",
   "name": "python",
   "nbconvert_exporter": "python",
   "pygments_lexer": "ipython3",
   "version": "3.13.7"
  }
 },
 "nbformat": 4,
 "nbformat_minor": 5
}
