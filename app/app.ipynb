{
 "cells": [
  {
   "cell_type": "code",
   "execution_count": null,
   "id": "0107850c",
   "metadata": {},
   "outputs": [],
   "source": [
    "import os\n",
    "import re\n",
    "import datetime\n",
    "from pathlib import Path\n",
    "from dotenv import load_dotenv\n",
    "from google import genai\n",
    "import json"
   ]
  },
  {
   "cell_type": "code",
   "execution_count": null,
   "id": "0a14b8cb",
   "metadata": {},
   "outputs": [],
   "source": [
    "def read_md(path: Path) -> str:\n",
    "    try:\n",
    "        with path.open(\"r\", encoding=\"utf-8\") as f:\n",
    "            return f.read()\n",
    "    except (FileNotFoundError, PermissionError, UnicodeDecodeError) as e:\n",
    "        print(f\"{path}の読み込みに失敗しました。{e}\")"
   ]
  },
  {
   "cell_type": "code",
   "execution_count": null,
   "id": "6023bce3",
   "metadata": {},
   "outputs": [],
   "source": [
    "# APIKEYの読み込み\n",
    "load_dotenv()\n",
    "gemini_api_key = os.getenv(\"GEMINI_API_KEY\")\n",
    "\n",
    "# Markdownファイルの読み込み\n",
    "p = Path(\".\") / \"file.md\"\n",
    "md_text = read_md(p)\n",
    "lines = md_text.splitlines()\n",
    "\n",
    "# 書籍のプロティの作成\n",
    "property = {}\n",
    "for l in lines:\n",
    "    if 'title' in l:\n",
    "        title = l.split(':')[1]\n",
    "    if 'author' in l:\n",
    "        author = l.split(':')[1]\n",
    "\n",
    "property['title'] = title\n",
    "property['author'] = author\n",
    "property['tags'] = ['kindle', 'quize']\n",
    "\n",
    "frontmatter = '---\\n'\n",
    "for v in property:\n",
    "    if type(property[v]) == list:\n",
    "        # frontmatter += v + ': [' + ','.join(property['tags']) + ']\\n'\n",
    "        frontmatter += v + ': ' + json.dumps(property[v]) + '\\n'\n",
    "    if type(property[v]) == str:\n",
    "        frontmatter += v + ': ' + property[v] + '\\n'\n",
    "frontmatter += '---\\n'\n",
    "print(frontmatter)"
   ]
  },
  {
   "cell_type": "code",
   "execution_count": null,
   "id": "9da38412",
   "metadata": {},
   "outputs": [],
   "source": [
    "print(md_text)"
   ]
  },
  {
   "cell_type": "code",
   "execution_count": null,
   "id": "5940dd96",
   "metadata": {},
   "outputs": [],
   "source": [
    "# Highlight箇所の抽出\n",
    "highlightAfterPattern = r\"##\\s*Highlights\\n*(.*)—\\slocation\"\n",
    "dashWrappedPattern = r\"---\\n*(.*)\\n*—\\slocation\"\n",
    "matches = re.findall(highlightAfterPattern, md_text)\n",
    "matches += re.findall(dashWrappedPattern, md_text)\n",
    "# print(matches)\n",
    "\n",
    "highlightMarkdown = ''\n",
    "for text in matches:\n",
    "    highlightMarkdown += '- ' + text + '\\n'\n",
    "print(highlightMarkdown)\n"
   ]
  },
  {
   "cell_type": "code",
   "execution_count": null,
   "id": "551ba7e0",
   "metadata": {},
   "outputs": [],
   "source": [
    "# mdファイルの要約\n",
    "client = genai.Client()\n",
    "\n",
    "response = client.models.generate_content(\n",
    "    model=\"gemini-2.5-flash\", contents= '以下は書籍の内容で重点的に復習したい箇所を' \\\n",
    "        'ハイライトした箇所をMarkdown形式にまとめたものです。要約してください。' \\\n",
    "        + highlightMarkdown)\n",
    "print(response.text)"
   ]
  },
  {
   "cell_type": "code",
   "execution_count": null,
   "id": "99269159",
   "metadata": {},
   "outputs": [],
   "source": []
  }
 ],
 "metadata": {
  "kernelspec": {
   "display_name": "venv",
   "language": "python",
   "name": "venv"
  },
  "language_info": {
   "codemirror_mode": {
    "name": "ipython",
    "version": 3
   },
   "file_extension": ".py",
   "mimetype": "text/x-python",
   "name": "python",
   "nbconvert_exporter": "python",
   "pygments_lexer": "ipython3",
   "version": "3.13.7"
  }
 },
 "nbformat": 4,
 "nbformat_minor": 5
}
